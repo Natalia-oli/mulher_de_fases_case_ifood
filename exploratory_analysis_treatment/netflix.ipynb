{
  "nbformat": 4,
  "nbformat_minor": 0,
  "metadata": {
    "colab": {
      "name": "netflix.ipynb",
      "provenance": [],
      "collapsed_sections": []
    },
    "kernelspec": {
      "name": "python3",
      "display_name": "Python 3"
    },
    "language_info": {
      "name": "python"
    }
  },
  "cells": [
    {
      "cell_type": "markdown",
      "metadata": {
        "id": "pb_EIqcMnrLF"
      },
      "source": [
        "### Sumário\n",
        "\n",
        "1.   **Netflix**\n",
        "\n",
        "      1.1 Seach History\n",
        "\n",
        "      1.2 viewing_activity\n",
        "\n",
        "        "
      ]
    },
    {
      "cell_type": "markdown",
      "metadata": {
        "id": "dnHwfkHw4rk2"
      },
      "source": [
        "Período analisado: 2020 - 2021. "
      ]
    },
    {
      "cell_type": "code",
      "metadata": {
        "id": "MFCX6du4v24q"
      },
      "source": [
        "import pandas as pd\n",
        "import json\n",
        "import matplotlib.pyplot as plt\n",
        "import numpy as np"
      ],
      "execution_count": 99,
      "outputs": []
    },
    {
      "cell_type": "markdown",
      "metadata": {
        "id": "RhBhcvmjpFe3"
      },
      "source": [
        "## Seach History"
      ]
    },
    {
      "cell_type": "code",
      "metadata": {
        "id": "7MmgP7TwwICx"
      },
      "source": [
        "df_seach_history = pd.read_csv('/content/drive/MyDrive/Case Ifood/NETFLIX/CONTENT_INTERACTION/SearchHistory.csv')\n"
      ],
      "execution_count": 100,
      "outputs": []
    },
    {
      "cell_type": "code",
      "metadata": {
        "id": "9piKtAUBwZNh"
      },
      "source": [
        "#Excluindo colunas desnecessárias as análises:\n",
        "df_seach_history.drop(columns=['Country Iso Code', 'Is Kids','Device', 'Query Typed'], inplace=True)\n"
      ],
      "execution_count": 101,
      "outputs": []
    },
    {
      "cell_type": "code",
      "metadata": {
        "id": "BQHh4RHpwg1N"
      },
      "source": [
        "# Excluindo registros que se refiram a outros perfins presentes:\n",
        "df_seach_history.drop(df_seach_history.loc[df_seach_history['Profile Name'] == 'ITALO' ].index, inplace=True)\n",
        "df_seach_history.drop(df_seach_history.loc[df_seach_history['Profile Name'] == 'KID' ].index, inplace=True)\n",
        "df_seach_history.drop(df_seach_history.loc[df_seach_history['Profile Name'] == 'Giulliana' ].index, inplace=True)"
      ],
      "execution_count": 102,
      "outputs": []
    },
    {
      "cell_type": "code",
      "metadata": {
        "colab": {
          "base_uri": "https://localhost:8080/"
        },
        "id": "0OsfZaOKwlOr",
        "outputId": "bf596e0a-dc1b-4e9c-84ab-63da53485f1d"
      },
      "source": [
        "#Analisando os tipos dos campos para posterior conformação necessária:\n",
        "df_seach_history['Section'].unique()"
      ],
      "execution_count": 103,
      "outputs": [
        {
          "output_type": "execute_result",
          "data": {
            "text/plain": [
              "array(['suggestion_title_results', 'video_info', 'popularSearches',\n",
              "       'title_results', 'suggestion_results', nan], dtype=object)"
            ]
          },
          "metadata": {
            "tags": []
          },
          "execution_count": 103
        }
      ]
    },
    {
      "cell_type": "code",
      "metadata": {
        "id": "VAPXus4VwuPF"
      },
      "source": [
        "#Transformar campo para tipo datetime:\n",
        "df_seach_history['Utc Timestamp'] = pd.to_datetime(df_seach_history['Utc Timestamp'], format = '%Y-%m-%d %H:%M:%S')\n"
      ],
      "execution_count": 104,
      "outputs": []
    },
    {
      "cell_type": "code",
      "metadata": {
        "id": "JpbWrSbkwyLT"
      },
      "source": [
        "# Extraindo tempo em hora\n",
        "df_seach_history['hour'] = df_seach_history['Utc Timestamp'].dt.time\n"
      ],
      "execution_count": 105,
      "outputs": []
    },
    {
      "cell_type": "code",
      "metadata": {
        "id": "2AotMhmG46JS"
      },
      "source": [
        "df_seach_history['hour'] = pd.to_datetime(df_seach_history['hour'], format = '%H:%M:%S')\n"
      ],
      "execution_count": 106,
      "outputs": []
    },
    {
      "cell_type": "code",
      "metadata": {
        "id": "ayAI4yAKxWrs"
      },
      "source": [
        "# Extraindo ano\n",
        "df_seach_history['year'] = pd.DatetimeIndex(df_seach_history['Utc Timestamp']).year\n"
      ],
      "execution_count": 107,
      "outputs": []
    },
    {
      "cell_type": "code",
      "metadata": {
        "id": "mf6ImYYJyUuY"
      },
      "source": [
        "# Extraindo mêss\n",
        "df_seach_history['month'] = pd.DatetimeIndex(df_seach_history['Utc Timestamp']).month\n"
      ],
      "execution_count": 108,
      "outputs": []
    },
    {
      "cell_type": "code",
      "metadata": {
        "id": "OgFnpyntztYs"
      },
      "source": [
        "# Associando palavra ao número do mês\n",
        "month = {\t1:'Jan',\n",
        "\t\t      2:'Feb',\n",
        "\t\t      3:'March',\n",
        "\t\t      4:'Apr',\n",
        "\t\t      5:'May',\n",
        "\t\t      6:'June',\n",
        "\t\t      7:'July',\n",
        "\t\t      8:'Aug',\n",
        "\t\t      9:'Sept',\n",
        "\t\t      10:'Oct',\n",
        "\t\t      11:'Nov',\n",
        "\t\t      12:'Dec'}\n",
        "\n",
        "df_seach_history[\"month\"].replace(month, inplace=True)\n"
      ],
      "execution_count": 109,
      "outputs": []
    },
    {
      "cell_type": "code",
      "metadata": {
        "id": "aDJG82C6ykxp"
      },
      "source": [
        "# Extraindo dia \n",
        "df_seach_history['day'] = pd.DatetimeIndex(df_seach_history['Utc Timestamp']).day \n"
      ],
      "execution_count": 110,
      "outputs": []
    },
    {
      "cell_type": "code",
      "metadata": {
        "colab": {
          "base_uri": "https://localhost:8080/",
          "height": 422
        },
        "id": "0ZrG8A-Qz6GU",
        "outputId": "709ef78e-79ed-4110-c1ae-5a5896fa69a7"
      },
      "source": [
        "df_seach_history"
      ],
      "execution_count": 111,
      "outputs": [
        {
          "output_type": "execute_result",
          "data": {
            "text/html": [
              "<div>\n",
              "<style scoped>\n",
              "    .dataframe tbody tr th:only-of-type {\n",
              "        vertical-align: middle;\n",
              "    }\n",
              "\n",
              "    .dataframe tbody tr th {\n",
              "        vertical-align: top;\n",
              "    }\n",
              "\n",
              "    .dataframe thead th {\n",
              "        text-align: right;\n",
              "    }\n",
              "</style>\n",
              "<table border=\"1\" class=\"dataframe\">\n",
              "  <thead>\n",
              "    <tr style=\"text-align: right;\">\n",
              "      <th></th>\n",
              "      <th>Profile Name</th>\n",
              "      <th>Displayed Name</th>\n",
              "      <th>Action</th>\n",
              "      <th>Section</th>\n",
              "      <th>Utc Timestamp</th>\n",
              "      <th>hour</th>\n",
              "      <th>year</th>\n",
              "      <th>month</th>\n",
              "      <th>day</th>\n",
              "    </tr>\n",
              "  </thead>\n",
              "  <tbody>\n",
              "    <tr>\n",
              "      <th>142</th>\n",
              "      <td>Natália</td>\n",
              "      <td>Gilmore Girls: Tal Mãe, Tal Filha</td>\n",
              "      <td>play</td>\n",
              "      <td>suggestion_title_results</td>\n",
              "      <td>2021-07-05 11:11:16</td>\n",
              "      <td>1900-01-01 11:11:16</td>\n",
              "      <td>2021</td>\n",
              "      <td>July</td>\n",
              "      <td>5</td>\n",
              "    </tr>\n",
              "    <tr>\n",
              "      <th>143</th>\n",
              "      <td>Natália</td>\n",
              "      <td>Gilmore Girls: Tal Mãe, Tal Filha</td>\n",
              "      <td>play</td>\n",
              "      <td>video_info</td>\n",
              "      <td>2021-07-05 09:25:49</td>\n",
              "      <td>1900-01-01 09:25:49</td>\n",
              "      <td>2021</td>\n",
              "      <td>July</td>\n",
              "      <td>5</td>\n",
              "    </tr>\n",
              "    <tr>\n",
              "      <th>144</th>\n",
              "      <td>Natália</td>\n",
              "      <td>Gilmore Girls: Tal Mãe, Tal Filha</td>\n",
              "      <td>play</td>\n",
              "      <td>suggestion_title_results</td>\n",
              "      <td>2021-07-05 09:25:45</td>\n",
              "      <td>1900-01-01 09:25:45</td>\n",
              "      <td>2021</td>\n",
              "      <td>July</td>\n",
              "      <td>5</td>\n",
              "    </tr>\n",
              "    <tr>\n",
              "      <th>145</th>\n",
              "      <td>Natália</td>\n",
              "      <td>Gilmore Girls: Tal Mãe, Tal Filha</td>\n",
              "      <td>view_video_info</td>\n",
              "      <td>suggestion_title_results</td>\n",
              "      <td>2021-07-05 09:25:40</td>\n",
              "      <td>1900-01-01 09:25:40</td>\n",
              "      <td>2021</td>\n",
              "      <td>July</td>\n",
              "      <td>5</td>\n",
              "    </tr>\n",
              "    <tr>\n",
              "      <th>146</th>\n",
              "      <td>Natália</td>\n",
              "      <td>Brooklyn Nine-Nine</td>\n",
              "      <td>play</td>\n",
              "      <td>suggestion_title_results</td>\n",
              "      <td>2021-06-08 06:53:03</td>\n",
              "      <td>1900-01-01 06:53:03</td>\n",
              "      <td>2021</td>\n",
              "      <td>June</td>\n",
              "      <td>8</td>\n",
              "    </tr>\n",
              "    <tr>\n",
              "      <th>...</th>\n",
              "      <td>...</td>\n",
              "      <td>...</td>\n",
              "      <td>...</td>\n",
              "      <td>...</td>\n",
              "      <td>...</td>\n",
              "      <td>...</td>\n",
              "      <td>...</td>\n",
              "      <td>...</td>\n",
              "      <td>...</td>\n",
              "    </tr>\n",
              "    <tr>\n",
              "      <th>603</th>\n",
              "      <td>Natália</td>\n",
              "      <td>Gilmore Girls: Tal Mãe, Tal Filha</td>\n",
              "      <td>view_video_info</td>\n",
              "      <td>title_results</td>\n",
              "      <td>2020-06-14 02:43:55</td>\n",
              "      <td>1900-01-01 02:43:55</td>\n",
              "      <td>2020</td>\n",
              "      <td>June</td>\n",
              "      <td>14</td>\n",
              "    </tr>\n",
              "    <tr>\n",
              "      <th>604</th>\n",
              "      <td>Natália</td>\n",
              "      <td>Gilmore Girls: Tal Mãe, Tal Filha</td>\n",
              "      <td>view_video_info</td>\n",
              "      <td>title_results</td>\n",
              "      <td>2020-06-12 04:17:24</td>\n",
              "      <td>1900-01-01 04:17:24</td>\n",
              "      <td>2020</td>\n",
              "      <td>June</td>\n",
              "      <td>12</td>\n",
              "    </tr>\n",
              "    <tr>\n",
              "      <th>605</th>\n",
              "      <td>Natália</td>\n",
              "      <td>Gilmore Girls: Tal Mãe, Tal Filha</td>\n",
              "      <td>play</td>\n",
              "      <td>video_info</td>\n",
              "      <td>2020-06-09 02:52:23</td>\n",
              "      <td>1900-01-01 02:52:23</td>\n",
              "      <td>2020</td>\n",
              "      <td>June</td>\n",
              "      <td>9</td>\n",
              "    </tr>\n",
              "    <tr>\n",
              "      <th>606</th>\n",
              "      <td>Natália</td>\n",
              "      <td>Gilmore Girls: Tal Mãe, Tal Filha</td>\n",
              "      <td>view_video_info</td>\n",
              "      <td>title_results</td>\n",
              "      <td>2020-06-09 02:51:53</td>\n",
              "      <td>1900-01-01 02:51:53</td>\n",
              "      <td>2020</td>\n",
              "      <td>June</td>\n",
              "      <td>9</td>\n",
              "    </tr>\n",
              "    <tr>\n",
              "      <th>607</th>\n",
              "      <td>Natália</td>\n",
              "      <td>Gilmore Girls: Tal Mãe, Tal Filha</td>\n",
              "      <td>view_video_info</td>\n",
              "      <td>title_results</td>\n",
              "      <td>2020-06-09 01:21:02</td>\n",
              "      <td>1900-01-01 01:21:02</td>\n",
              "      <td>2020</td>\n",
              "      <td>June</td>\n",
              "      <td>9</td>\n",
              "    </tr>\n",
              "  </tbody>\n",
              "</table>\n",
              "<p>466 rows × 9 columns</p>\n",
              "</div>"
            ],
            "text/plain": [
              "    Profile Name                     Displayed Name  ... month day\n",
              "142      Natália  Gilmore Girls: Tal Mãe, Tal Filha  ...  July   5\n",
              "143      Natália  Gilmore Girls: Tal Mãe, Tal Filha  ...  July   5\n",
              "144      Natália  Gilmore Girls: Tal Mãe, Tal Filha  ...  July   5\n",
              "145      Natália  Gilmore Girls: Tal Mãe, Tal Filha  ...  July   5\n",
              "146      Natália                 Brooklyn Nine-Nine  ...  June   8\n",
              "..           ...                                ...  ...   ...  ..\n",
              "603      Natália  Gilmore Girls: Tal Mãe, Tal Filha  ...  June  14\n",
              "604      Natália  Gilmore Girls: Tal Mãe, Tal Filha  ...  June  12\n",
              "605      Natália  Gilmore Girls: Tal Mãe, Tal Filha  ...  June   9\n",
              "606      Natália  Gilmore Girls: Tal Mãe, Tal Filha  ...  June   9\n",
              "607      Natália  Gilmore Girls: Tal Mãe, Tal Filha  ...  June   9\n",
              "\n",
              "[466 rows x 9 columns]"
            ]
          },
          "metadata": {
            "tags": []
          },
          "execution_count": 111
        }
      ]
    },
    {
      "cell_type": "code",
      "metadata": {
        "id": "iailvaj80VXm"
      },
      "source": [
        "# Enquadrando horas em um partes do dia \n",
        "def get_day_shifts(h):\n",
        "   \n",
        "    if (h >= 6) and (h <= 12 ):\n",
        "        return 'Manhão'\n",
        "    elif (h > 12) and (h <= 18):\n",
        "        return'Tarde'\n",
        "    elif (h > 18) and (h <= 23):\n",
        "        return'Noite'\n",
        "    elif (h >= 00) and (h <= 5):\n",
        "        return'Madrugada'\n",
        "\n",
        "df_seach_history['day_shifts'] = df_seach_history['Utc Timestamp'].dt.hour.apply(get_day_shifts)"
      ],
      "execution_count": 112,
      "outputs": []
    },
    {
      "cell_type": "code",
      "metadata": {
        "colab": {
          "base_uri": "https://localhost:8080/",
          "height": 612
        },
        "id": "zBkNnv7j5YZf",
        "outputId": "e928f774-29cc-4283-c839-21d55e32c90c"
      },
      "source": [
        "df_seach_history"
      ],
      "execution_count": 113,
      "outputs": [
        {
          "output_type": "execute_result",
          "data": {
            "text/html": [
              "<div>\n",
              "<style scoped>\n",
              "    .dataframe tbody tr th:only-of-type {\n",
              "        vertical-align: middle;\n",
              "    }\n",
              "\n",
              "    .dataframe tbody tr th {\n",
              "        vertical-align: top;\n",
              "    }\n",
              "\n",
              "    .dataframe thead th {\n",
              "        text-align: right;\n",
              "    }\n",
              "</style>\n",
              "<table border=\"1\" class=\"dataframe\">\n",
              "  <thead>\n",
              "    <tr style=\"text-align: right;\">\n",
              "      <th></th>\n",
              "      <th>Profile Name</th>\n",
              "      <th>Displayed Name</th>\n",
              "      <th>Action</th>\n",
              "      <th>Section</th>\n",
              "      <th>Utc Timestamp</th>\n",
              "      <th>hour</th>\n",
              "      <th>year</th>\n",
              "      <th>month</th>\n",
              "      <th>day</th>\n",
              "      <th>day_shifts</th>\n",
              "    </tr>\n",
              "  </thead>\n",
              "  <tbody>\n",
              "    <tr>\n",
              "      <th>142</th>\n",
              "      <td>Natália</td>\n",
              "      <td>Gilmore Girls: Tal Mãe, Tal Filha</td>\n",
              "      <td>play</td>\n",
              "      <td>suggestion_title_results</td>\n",
              "      <td>2021-07-05 11:11:16</td>\n",
              "      <td>1900-01-01 11:11:16</td>\n",
              "      <td>2021</td>\n",
              "      <td>July</td>\n",
              "      <td>5</td>\n",
              "      <td>Manhão</td>\n",
              "    </tr>\n",
              "    <tr>\n",
              "      <th>143</th>\n",
              "      <td>Natália</td>\n",
              "      <td>Gilmore Girls: Tal Mãe, Tal Filha</td>\n",
              "      <td>play</td>\n",
              "      <td>video_info</td>\n",
              "      <td>2021-07-05 09:25:49</td>\n",
              "      <td>1900-01-01 09:25:49</td>\n",
              "      <td>2021</td>\n",
              "      <td>July</td>\n",
              "      <td>5</td>\n",
              "      <td>Manhão</td>\n",
              "    </tr>\n",
              "    <tr>\n",
              "      <th>144</th>\n",
              "      <td>Natália</td>\n",
              "      <td>Gilmore Girls: Tal Mãe, Tal Filha</td>\n",
              "      <td>play</td>\n",
              "      <td>suggestion_title_results</td>\n",
              "      <td>2021-07-05 09:25:45</td>\n",
              "      <td>1900-01-01 09:25:45</td>\n",
              "      <td>2021</td>\n",
              "      <td>July</td>\n",
              "      <td>5</td>\n",
              "      <td>Manhão</td>\n",
              "    </tr>\n",
              "    <tr>\n",
              "      <th>145</th>\n",
              "      <td>Natália</td>\n",
              "      <td>Gilmore Girls: Tal Mãe, Tal Filha</td>\n",
              "      <td>view_video_info</td>\n",
              "      <td>suggestion_title_results</td>\n",
              "      <td>2021-07-05 09:25:40</td>\n",
              "      <td>1900-01-01 09:25:40</td>\n",
              "      <td>2021</td>\n",
              "      <td>July</td>\n",
              "      <td>5</td>\n",
              "      <td>Manhão</td>\n",
              "    </tr>\n",
              "    <tr>\n",
              "      <th>146</th>\n",
              "      <td>Natália</td>\n",
              "      <td>Brooklyn Nine-Nine</td>\n",
              "      <td>play</td>\n",
              "      <td>suggestion_title_results</td>\n",
              "      <td>2021-06-08 06:53:03</td>\n",
              "      <td>1900-01-01 06:53:03</td>\n",
              "      <td>2021</td>\n",
              "      <td>June</td>\n",
              "      <td>8</td>\n",
              "      <td>Manhão</td>\n",
              "    </tr>\n",
              "    <tr>\n",
              "      <th>...</th>\n",
              "      <td>...</td>\n",
              "      <td>...</td>\n",
              "      <td>...</td>\n",
              "      <td>...</td>\n",
              "      <td>...</td>\n",
              "      <td>...</td>\n",
              "      <td>...</td>\n",
              "      <td>...</td>\n",
              "      <td>...</td>\n",
              "      <td>...</td>\n",
              "    </tr>\n",
              "    <tr>\n",
              "      <th>603</th>\n",
              "      <td>Natália</td>\n",
              "      <td>Gilmore Girls: Tal Mãe, Tal Filha</td>\n",
              "      <td>view_video_info</td>\n",
              "      <td>title_results</td>\n",
              "      <td>2020-06-14 02:43:55</td>\n",
              "      <td>1900-01-01 02:43:55</td>\n",
              "      <td>2020</td>\n",
              "      <td>June</td>\n",
              "      <td>14</td>\n",
              "      <td>Madrugada</td>\n",
              "    </tr>\n",
              "    <tr>\n",
              "      <th>604</th>\n",
              "      <td>Natália</td>\n",
              "      <td>Gilmore Girls: Tal Mãe, Tal Filha</td>\n",
              "      <td>view_video_info</td>\n",
              "      <td>title_results</td>\n",
              "      <td>2020-06-12 04:17:24</td>\n",
              "      <td>1900-01-01 04:17:24</td>\n",
              "      <td>2020</td>\n",
              "      <td>June</td>\n",
              "      <td>12</td>\n",
              "      <td>Madrugada</td>\n",
              "    </tr>\n",
              "    <tr>\n",
              "      <th>605</th>\n",
              "      <td>Natália</td>\n",
              "      <td>Gilmore Girls: Tal Mãe, Tal Filha</td>\n",
              "      <td>play</td>\n",
              "      <td>video_info</td>\n",
              "      <td>2020-06-09 02:52:23</td>\n",
              "      <td>1900-01-01 02:52:23</td>\n",
              "      <td>2020</td>\n",
              "      <td>June</td>\n",
              "      <td>9</td>\n",
              "      <td>Madrugada</td>\n",
              "    </tr>\n",
              "    <tr>\n",
              "      <th>606</th>\n",
              "      <td>Natália</td>\n",
              "      <td>Gilmore Girls: Tal Mãe, Tal Filha</td>\n",
              "      <td>view_video_info</td>\n",
              "      <td>title_results</td>\n",
              "      <td>2020-06-09 02:51:53</td>\n",
              "      <td>1900-01-01 02:51:53</td>\n",
              "      <td>2020</td>\n",
              "      <td>June</td>\n",
              "      <td>9</td>\n",
              "      <td>Madrugada</td>\n",
              "    </tr>\n",
              "    <tr>\n",
              "      <th>607</th>\n",
              "      <td>Natália</td>\n",
              "      <td>Gilmore Girls: Tal Mãe, Tal Filha</td>\n",
              "      <td>view_video_info</td>\n",
              "      <td>title_results</td>\n",
              "      <td>2020-06-09 01:21:02</td>\n",
              "      <td>1900-01-01 01:21:02</td>\n",
              "      <td>2020</td>\n",
              "      <td>June</td>\n",
              "      <td>9</td>\n",
              "      <td>Madrugada</td>\n",
              "    </tr>\n",
              "  </tbody>\n",
              "</table>\n",
              "<p>466 rows × 10 columns</p>\n",
              "</div>"
            ],
            "text/plain": [
              "    Profile Name                     Displayed Name  ... day day_shifts\n",
              "142      Natália  Gilmore Girls: Tal Mãe, Tal Filha  ...   5     Manhão\n",
              "143      Natália  Gilmore Girls: Tal Mãe, Tal Filha  ...   5     Manhão\n",
              "144      Natália  Gilmore Girls: Tal Mãe, Tal Filha  ...   5     Manhão\n",
              "145      Natália  Gilmore Girls: Tal Mãe, Tal Filha  ...   5     Manhão\n",
              "146      Natália                 Brooklyn Nine-Nine  ...   8     Manhão\n",
              "..           ...                                ...  ...  ..        ...\n",
              "603      Natália  Gilmore Girls: Tal Mãe, Tal Filha  ...  14  Madrugada\n",
              "604      Natália  Gilmore Girls: Tal Mãe, Tal Filha  ...  12  Madrugada\n",
              "605      Natália  Gilmore Girls: Tal Mãe, Tal Filha  ...   9  Madrugada\n",
              "606      Natália  Gilmore Girls: Tal Mãe, Tal Filha  ...   9  Madrugada\n",
              "607      Natália  Gilmore Girls: Tal Mãe, Tal Filha  ...   9  Madrugada\n",
              "\n",
              "[466 rows x 10 columns]"
            ]
          },
          "metadata": {
            "tags": []
          },
          "execution_count": 113
        }
      ]
    },
    {
      "cell_type": "code",
      "metadata": {
        "colab": {
          "base_uri": "https://localhost:8080/"
        },
        "id": "gym4s3iD8biF",
        "outputId": "220e1e61-eb37-41ed-9293-afb7644c3ec6"
      },
      "source": [
        "df_seach_history.info()"
      ],
      "execution_count": 114,
      "outputs": [
        {
          "output_type": "stream",
          "text": [
            "<class 'pandas.core.frame.DataFrame'>\n",
            "Int64Index: 466 entries, 142 to 607\n",
            "Data columns (total 10 columns):\n",
            " #   Column          Non-Null Count  Dtype         \n",
            "---  ------          --------------  -----         \n",
            " 0   Profile Name    466 non-null    object        \n",
            " 1   Displayed Name  375 non-null    object        \n",
            " 2   Action          466 non-null    object        \n",
            " 3   Section         464 non-null    object        \n",
            " 4   Utc Timestamp   466 non-null    datetime64[ns]\n",
            " 5   hour            466 non-null    datetime64[ns]\n",
            " 6   year            466 non-null    int64         \n",
            " 7   month           466 non-null    object        \n",
            " 8   day             466 non-null    int64         \n",
            " 9   day_shifts      466 non-null    object        \n",
            "dtypes: datetime64[ns](2), int64(2), object(6)\n",
            "memory usage: 40.0+ KB\n"
          ],
          "name": "stdout"
        }
      ]
    },
    {
      "cell_type": "code",
      "metadata": {
        "id": "SQQKEfpU5pf5"
      },
      "source": [
        "df_seach_history.to_csv('seach_history_netflix_nat.csv', encoding='utf-8', index = False, header = True)\n"
      ],
      "execution_count": 115,
      "outputs": []
    },
    {
      "cell_type": "markdown",
      "metadata": {
        "id": "E7s8RDGHo7-A"
      },
      "source": [
        "## 1. 2 Viewing activity"
      ]
    },
    {
      "cell_type": "code",
      "metadata": {
        "id": "0XAGB1Lvpu6W"
      },
      "source": [
        "df_viewing_activity = pd.read_csv('/content/drive/MyDrive/Case Ifood/NETFLIX/CONTENT_INTERACTION/ViewingActivity.csv')\n"
      ],
      "execution_count": 116,
      "outputs": []
    },
    {
      "cell_type": "code",
      "metadata": {
        "colab": {
          "base_uri": "https://localhost:8080/"
        },
        "id": "oQX3gf2wqA0p",
        "outputId": "ea4ebb3c-4150-417b-ca57-8c2042339e68"
      },
      "source": [
        "# Conferindo campos:\n",
        "df_viewing_activity.info()"
      ],
      "execution_count": 117,
      "outputs": [
        {
          "output_type": "stream",
          "text": [
            "<class 'pandas.core.frame.DataFrame'>\n",
            "RangeIndex: 6478 entries, 0 to 6477\n",
            "Data columns (total 10 columns):\n",
            " #   Column                   Non-Null Count  Dtype \n",
            "---  ------                   --------------  ----- \n",
            " 0   Profile Name             6478 non-null   object\n",
            " 1   Start Time               6478 non-null   object\n",
            " 2   Duration                 6478 non-null   object\n",
            " 3   Attributes               219 non-null    object\n",
            " 4   Title                    6478 non-null   object\n",
            " 5   Supplemental Video Type  359 non-null    object\n",
            " 6   Device Type              6478 non-null   object\n",
            " 7   Bookmark                 6478 non-null   object\n",
            " 8   Latest Bookmark          6478 non-null   object\n",
            " 9   Country                  6478 non-null   object\n",
            "dtypes: object(10)\n",
            "memory usage: 506.2+ KB\n"
          ],
          "name": "stdout"
        }
      ]
    },
    {
      "cell_type": "code",
      "metadata": {
        "id": "dLHytx0LqHUZ"
      },
      "source": [
        "# Tratando tipos incoerentes:\n",
        "df_viewing_activity['Bookmark'] = pd.to_datetime(df_viewing_activity['Bookmark'], format = '%H:%M:%S')\n",
        "df_viewing_activity['Duration'] = pd.to_datetime(df_viewing_activity['Duration'], format= '%H:%M:%S')\n",
        "df_viewing_activity['Start Time'] = pd.to_datetime(df_viewing_activity['Start Time'], format= '%Y-%m-%d %H:%M:%S')"
      ],
      "execution_count": 118,
      "outputs": []
    },
    {
      "cell_type": "markdown",
      "metadata": {
        "id": "VRDq-eUTqWCK"
      },
      "source": [
        "Eliminando linhas da coluna 'Supplemental Video Type', que continha valores iguais a: RECAP', 'TEASER_TRAILER', 'TRAILER', 'HOOK', 'PROMOTIONAL','TUTORIAL', 'BONUS_VIDEO', 'PREVIEW'. Esses campos, provavelmento, indicam trailer/apresentação de alguns títulos, com duração de visualização por o cliente abaixo de 1 minuto, sendo, dessa forma, desprezível:"
      ]
    },
    {
      "cell_type": "code",
      "metadata": {
        "id": "N-uvghVxqQ1c"
      },
      "source": [
        "\n",
        "df_viewing_activity.drop(df_viewing_activity[df_viewing_activity['Supplemental Video Type'] == 'HOOK'].index, inplace=True)\n",
        "df_viewing_activity.drop(df_viewing_activity[df_viewing_activity['Supplemental Video Type'] == 'RECAP'].index, inplace=True)\n",
        "df_viewing_activity.drop(df_viewing_activity[df_viewing_activity['Supplemental Video Type'] == 'TEASER_TRAILER'].index, inplace=True)\n",
        "df_viewing_activity.drop(df_viewing_activity[df_viewing_activity['Supplemental Video Type'] == 'TRAILER'].index, inplace=True)\n",
        "df_viewing_activity.drop(df_viewing_activity[df_viewing_activity['Supplemental Video Type'] == 'PROMOTIONAL'].index, inplace=True)\n",
        "df_viewing_activity.drop(df_viewing_activity[df_viewing_activity['Supplemental Video Type'] == 'PREVIEW'].index, inplace=True)"
      ],
      "execution_count": 119,
      "outputs": []
    },
    {
      "cell_type": "code",
      "metadata": {
        "id": "TiR84LadqbCn"
      },
      "source": [
        "# Deixando apenas as colunas no qual o 'Profile Name' é igual a 'Natália', \n",
        "# para que não haja interferência nas análises:\n",
        "df_viewing_activity.drop(df_viewing_activity.loc[df_viewing_activity['Profile Name'] == 'ITALO' ].index, inplace=True)\n",
        "df_viewing_activity.drop(df_viewing_activity.loc[df_viewing_activity['Profile Name'] == 'KID' ].index, inplace=True)\n",
        "df_viewing_activity.drop(df_viewing_activity.loc[df_viewing_activity['Profile Name'] == 'Giulliana' ].index, inplace=True)"
      ],
      "execution_count": 120,
      "outputs": []
    },
    {
      "cell_type": "code",
      "metadata": {
        "colab": {
          "base_uri": "https://localhost:8080/",
          "height": 785
        },
        "id": "IF0jjNYsqn2U",
        "outputId": "de52443e-3628-4ce4-dab6-65630c0aa63d"
      },
      "source": [
        "# Reorganizando o index após eliminar linhas correspondêntes a outros perfis depreziveis as análises:\n",
        "df_viewing_activity = df_viewing_activity.reset_index(drop=True)\n",
        "df_viewing_activity"
      ],
      "execution_count": 121,
      "outputs": [
        {
          "output_type": "execute_result",
          "data": {
            "text/html": [
              "<div>\n",
              "<style scoped>\n",
              "    .dataframe tbody tr th:only-of-type {\n",
              "        vertical-align: middle;\n",
              "    }\n",
              "\n",
              "    .dataframe tbody tr th {\n",
              "        vertical-align: top;\n",
              "    }\n",
              "\n",
              "    .dataframe thead th {\n",
              "        text-align: right;\n",
              "    }\n",
              "</style>\n",
              "<table border=\"1\" class=\"dataframe\">\n",
              "  <thead>\n",
              "    <tr style=\"text-align: right;\">\n",
              "      <th></th>\n",
              "      <th>Profile Name</th>\n",
              "      <th>Start Time</th>\n",
              "      <th>Duration</th>\n",
              "      <th>Attributes</th>\n",
              "      <th>Title</th>\n",
              "      <th>Supplemental Video Type</th>\n",
              "      <th>Device Type</th>\n",
              "      <th>Bookmark</th>\n",
              "      <th>Latest Bookmark</th>\n",
              "      <th>Country</th>\n",
              "    </tr>\n",
              "  </thead>\n",
              "  <tbody>\n",
              "    <tr>\n",
              "      <th>0</th>\n",
              "      <td>Natália</td>\n",
              "      <td>2021-07-18 04:47:17</td>\n",
              "      <td>1900-01-01 00:25:25</td>\n",
              "      <td>NaN</td>\n",
              "      <td>Sex/Life: Temporada 1: As esposas estão em Con...</td>\n",
              "      <td>NaN</td>\n",
              "      <td>DefaultWidevineAndroidPhone</td>\n",
              "      <td>1900-01-01 00:20:46</td>\n",
              "      <td>00:20:46</td>\n",
              "      <td>BR (Brazil)</td>\n",
              "    </tr>\n",
              "    <tr>\n",
              "      <th>1</th>\n",
              "      <td>Natália</td>\n",
              "      <td>2021-07-18 04:37:05</td>\n",
              "      <td>1900-01-01 00:07:46</td>\n",
              "      <td>NaN</td>\n",
              "      <td>Sex/Life: Temporada 1: Império de memórias (Ep...</td>\n",
              "      <td>NaN</td>\n",
              "      <td>DefaultWidevineAndroidPhone</td>\n",
              "      <td>1900-01-01 00:20:38</td>\n",
              "      <td>00:20:38</td>\n",
              "      <td>BR (Brazil)</td>\n",
              "    </tr>\n",
              "    <tr>\n",
              "      <th>2</th>\n",
              "      <td>Natália</td>\n",
              "      <td>2021-07-12 11:35:32</td>\n",
              "      <td>1900-01-01 00:43:42</td>\n",
              "      <td>NaN</td>\n",
              "      <td>Gilmore Girls: Tal Mãe, Tal Filha: Temporada 1...</td>\n",
              "      <td>NaN</td>\n",
              "      <td>DefaultWidevineAndroidPhone</td>\n",
              "      <td>1900-01-01 00:43:42</td>\n",
              "      <td>00:43:42</td>\n",
              "      <td>BR (Brazil)</td>\n",
              "    </tr>\n",
              "    <tr>\n",
              "      <th>3</th>\n",
              "      <td>Natália</td>\n",
              "      <td>2021-07-12 10:53:06</td>\n",
              "      <td>1900-01-01 00:42:25</td>\n",
              "      <td>NaN</td>\n",
              "      <td>Gilmore Girls: Tal Mãe, Tal Filha: Temporada 1...</td>\n",
              "      <td>NaN</td>\n",
              "      <td>DefaultWidevineAndroidPhone</td>\n",
              "      <td>1900-01-01 00:42:25</td>\n",
              "      <td>00:42:25</td>\n",
              "      <td>BR (Brazil)</td>\n",
              "    </tr>\n",
              "    <tr>\n",
              "      <th>4</th>\n",
              "      <td>Natália</td>\n",
              "      <td>2021-07-12 10:33:52</td>\n",
              "      <td>1900-01-01 00:19:13</td>\n",
              "      <td>NaN</td>\n",
              "      <td>Gilmore Girls: Tal Mãe, Tal Filha: Temporada 1...</td>\n",
              "      <td>NaN</td>\n",
              "      <td>DefaultWidevineAndroidPhone</td>\n",
              "      <td>1900-01-01 00:43:52</td>\n",
              "      <td>00:43:52</td>\n",
              "      <td>BR (Brazil)</td>\n",
              "    </tr>\n",
              "    <tr>\n",
              "      <th>...</th>\n",
              "      <td>...</td>\n",
              "      <td>...</td>\n",
              "      <td>...</td>\n",
              "      <td>...</td>\n",
              "      <td>...</td>\n",
              "      <td>...</td>\n",
              "      <td>...</td>\n",
              "      <td>...</td>\n",
              "      <td>...</td>\n",
              "      <td>...</td>\n",
              "    </tr>\n",
              "    <tr>\n",
              "      <th>5274</th>\n",
              "      <td>Natália</td>\n",
              "      <td>2020-06-09 03:36:39</td>\n",
              "      <td>1900-01-01 00:32:41</td>\n",
              "      <td>NaN</td>\n",
              "      <td>Gilmore Girls: Tal Mãe, Tal Filha: Temporada 6...</td>\n",
              "      <td>NaN</td>\n",
              "      <td>DefaultWidevineAndroidPhone</td>\n",
              "      <td>1900-01-01 00:34:39</td>\n",
              "      <td>Not latest view</td>\n",
              "      <td>BR (Brazil)</td>\n",
              "    </tr>\n",
              "    <tr>\n",
              "      <th>5275</th>\n",
              "      <td>Natália</td>\n",
              "      <td>2020-06-09 03:35:49</td>\n",
              "      <td>1900-01-01 00:00:04</td>\n",
              "      <td>NaN</td>\n",
              "      <td>Gilmore Girls: Tal Mãe, Tal Filha: Temporada 6...</td>\n",
              "      <td>NaN</td>\n",
              "      <td>DefaultWidevineAndroidPhone</td>\n",
              "      <td>1900-01-01 00:01:00</td>\n",
              "      <td>Not latest view</td>\n",
              "      <td>BR (Brazil)</td>\n",
              "    </tr>\n",
              "    <tr>\n",
              "      <th>5276</th>\n",
              "      <td>Natália</td>\n",
              "      <td>2020-06-09 03:05:49</td>\n",
              "      <td>1900-01-01 00:29:28</td>\n",
              "      <td>NaN</td>\n",
              "      <td>Gilmore Girls: Tal Mãe, Tal Filha: Temporada 6...</td>\n",
              "      <td>NaN</td>\n",
              "      <td>DefaultWidevineAndroidPhone</td>\n",
              "      <td>1900-01-01 00:43:54</td>\n",
              "      <td>Not latest view</td>\n",
              "      <td>BR (Brazil)</td>\n",
              "    </tr>\n",
              "    <tr>\n",
              "      <th>5277</th>\n",
              "      <td>Natália</td>\n",
              "      <td>2020-06-09 02:52:21</td>\n",
              "      <td>1900-01-01 00:13:01</td>\n",
              "      <td>NaN</td>\n",
              "      <td>Gilmore Girls: Tal Mãe, Tal Filha: Temporada 6...</td>\n",
              "      <td>NaN</td>\n",
              "      <td>DefaultWidevineAndroidPhone</td>\n",
              "      <td>1900-01-01 00:14:31</td>\n",
              "      <td>Not latest view</td>\n",
              "      <td>BR (Brazil)</td>\n",
              "    </tr>\n",
              "    <tr>\n",
              "      <th>5278</th>\n",
              "      <td>Natália</td>\n",
              "      <td>2020-06-09 01:29:52</td>\n",
              "      <td>1900-01-01 00:11:57</td>\n",
              "      <td>NaN</td>\n",
              "      <td>Lucifer: Temporada 3: Cesto de pecados (Episód...</td>\n",
              "      <td>NaN</td>\n",
              "      <td>DefaultWidevineAndroidPhone</td>\n",
              "      <td>1900-01-01 00:11:56</td>\n",
              "      <td>00:11:56</td>\n",
              "      <td>BR (Brazil)</td>\n",
              "    </tr>\n",
              "  </tbody>\n",
              "</table>\n",
              "<p>5279 rows × 10 columns</p>\n",
              "</div>"
            ],
            "text/plain": [
              "     Profile Name          Start Time  ...  Latest Bookmark      Country\n",
              "0         Natália 2021-07-18 04:47:17  ...         00:20:46  BR (Brazil)\n",
              "1         Natália 2021-07-18 04:37:05  ...         00:20:38  BR (Brazil)\n",
              "2         Natália 2021-07-12 11:35:32  ...         00:43:42  BR (Brazil)\n",
              "3         Natália 2021-07-12 10:53:06  ...         00:42:25  BR (Brazil)\n",
              "4         Natália 2021-07-12 10:33:52  ...         00:43:52  BR (Brazil)\n",
              "...           ...                 ...  ...              ...          ...\n",
              "5274      Natália 2020-06-09 03:36:39  ...  Not latest view  BR (Brazil)\n",
              "5275      Natália 2020-06-09 03:35:49  ...  Not latest view  BR (Brazil)\n",
              "5276      Natália 2020-06-09 03:05:49  ...  Not latest view  BR (Brazil)\n",
              "5277      Natália 2020-06-09 02:52:21  ...  Not latest view  BR (Brazil)\n",
              "5278      Natália 2020-06-09 01:29:52  ...         00:11:56  BR (Brazil)\n",
              "\n",
              "[5279 rows x 10 columns]"
            ]
          },
          "metadata": {
            "tags": []
          },
          "execution_count": 121
        }
      ]
    },
    {
      "cell_type": "code",
      "metadata": {
        "colab": {
          "base_uri": "https://localhost:8080/",
          "height": 1000
        },
        "id": "RuMkvikiq4Wr",
        "outputId": "1897d424-a8cf-452a-f471-557ac5d1b553"
      },
      "source": [
        "# Criando função para isolar o título das obras da netflix e adicionando nova coluna com título isolado:\n",
        "\n",
        "def titulo_limpo(x):\n",
        "  tamanho_lista = len(x.split(':'))\n",
        "  if tamanho_lista <= 3:\n",
        "    titulo = ':'.join(x.split(':')[:1])\n",
        "    return titulo \n",
        "  elif tamanho_lista <= 4:\n",
        "    titulo = ':'.join(x.split(':')[:2])\n",
        "    return titulo\n",
        "  else: \n",
        "    #titulo = x.split(':')[:2]\n",
        "    titulo = ':'.join(x.split(':')[:2])\n",
        "    return titulo\n",
        "\n",
        "# criação de nova coluna \n",
        "df_viewing_activity['titulo_limpo_'] = df_viewing_activity['Title'].apply(titulo_limpo)\n",
        "df_viewing_activity"
      ],
      "execution_count": 122,
      "outputs": [
        {
          "output_type": "execute_result",
          "data": {
            "text/html": [
              "<div>\n",
              "<style scoped>\n",
              "    .dataframe tbody tr th:only-of-type {\n",
              "        vertical-align: middle;\n",
              "    }\n",
              "\n",
              "    .dataframe tbody tr th {\n",
              "        vertical-align: top;\n",
              "    }\n",
              "\n",
              "    .dataframe thead th {\n",
              "        text-align: right;\n",
              "    }\n",
              "</style>\n",
              "<table border=\"1\" class=\"dataframe\">\n",
              "  <thead>\n",
              "    <tr style=\"text-align: right;\">\n",
              "      <th></th>\n",
              "      <th>Profile Name</th>\n",
              "      <th>Start Time</th>\n",
              "      <th>Duration</th>\n",
              "      <th>Attributes</th>\n",
              "      <th>Title</th>\n",
              "      <th>Supplemental Video Type</th>\n",
              "      <th>Device Type</th>\n",
              "      <th>Bookmark</th>\n",
              "      <th>Latest Bookmark</th>\n",
              "      <th>Country</th>\n",
              "      <th>titulo_limpo_</th>\n",
              "    </tr>\n",
              "  </thead>\n",
              "  <tbody>\n",
              "    <tr>\n",
              "      <th>0</th>\n",
              "      <td>Natália</td>\n",
              "      <td>2021-07-18 04:47:17</td>\n",
              "      <td>1900-01-01 00:25:25</td>\n",
              "      <td>NaN</td>\n",
              "      <td>Sex/Life: Temporada 1: As esposas estão em Con...</td>\n",
              "      <td>NaN</td>\n",
              "      <td>DefaultWidevineAndroidPhone</td>\n",
              "      <td>1900-01-01 00:20:46</td>\n",
              "      <td>00:20:46</td>\n",
              "      <td>BR (Brazil)</td>\n",
              "      <td>Sex/Life</td>\n",
              "    </tr>\n",
              "    <tr>\n",
              "      <th>1</th>\n",
              "      <td>Natália</td>\n",
              "      <td>2021-07-18 04:37:05</td>\n",
              "      <td>1900-01-01 00:07:46</td>\n",
              "      <td>NaN</td>\n",
              "      <td>Sex/Life: Temporada 1: Império de memórias (Ep...</td>\n",
              "      <td>NaN</td>\n",
              "      <td>DefaultWidevineAndroidPhone</td>\n",
              "      <td>1900-01-01 00:20:38</td>\n",
              "      <td>00:20:38</td>\n",
              "      <td>BR (Brazil)</td>\n",
              "      <td>Sex/Life</td>\n",
              "    </tr>\n",
              "    <tr>\n",
              "      <th>2</th>\n",
              "      <td>Natália</td>\n",
              "      <td>2021-07-12 11:35:32</td>\n",
              "      <td>1900-01-01 00:43:42</td>\n",
              "      <td>NaN</td>\n",
              "      <td>Gilmore Girls: Tal Mãe, Tal Filha: Temporada 1...</td>\n",
              "      <td>NaN</td>\n",
              "      <td>DefaultWidevineAndroidPhone</td>\n",
              "      <td>1900-01-01 00:43:42</td>\n",
              "      <td>00:43:42</td>\n",
              "      <td>BR (Brazil)</td>\n",
              "      <td>Gilmore Girls: Tal Mãe, Tal Filha</td>\n",
              "    </tr>\n",
              "    <tr>\n",
              "      <th>3</th>\n",
              "      <td>Natália</td>\n",
              "      <td>2021-07-12 10:53:06</td>\n",
              "      <td>1900-01-01 00:42:25</td>\n",
              "      <td>NaN</td>\n",
              "      <td>Gilmore Girls: Tal Mãe, Tal Filha: Temporada 1...</td>\n",
              "      <td>NaN</td>\n",
              "      <td>DefaultWidevineAndroidPhone</td>\n",
              "      <td>1900-01-01 00:42:25</td>\n",
              "      <td>00:42:25</td>\n",
              "      <td>BR (Brazil)</td>\n",
              "      <td>Gilmore Girls: Tal Mãe, Tal Filha</td>\n",
              "    </tr>\n",
              "    <tr>\n",
              "      <th>4</th>\n",
              "      <td>Natália</td>\n",
              "      <td>2021-07-12 10:33:52</td>\n",
              "      <td>1900-01-01 00:19:13</td>\n",
              "      <td>NaN</td>\n",
              "      <td>Gilmore Girls: Tal Mãe, Tal Filha: Temporada 1...</td>\n",
              "      <td>NaN</td>\n",
              "      <td>DefaultWidevineAndroidPhone</td>\n",
              "      <td>1900-01-01 00:43:52</td>\n",
              "      <td>00:43:52</td>\n",
              "      <td>BR (Brazil)</td>\n",
              "      <td>Gilmore Girls: Tal Mãe, Tal Filha</td>\n",
              "    </tr>\n",
              "    <tr>\n",
              "      <th>...</th>\n",
              "      <td>...</td>\n",
              "      <td>...</td>\n",
              "      <td>...</td>\n",
              "      <td>...</td>\n",
              "      <td>...</td>\n",
              "      <td>...</td>\n",
              "      <td>...</td>\n",
              "      <td>...</td>\n",
              "      <td>...</td>\n",
              "      <td>...</td>\n",
              "      <td>...</td>\n",
              "    </tr>\n",
              "    <tr>\n",
              "      <th>5274</th>\n",
              "      <td>Natália</td>\n",
              "      <td>2020-06-09 03:36:39</td>\n",
              "      <td>1900-01-01 00:32:41</td>\n",
              "      <td>NaN</td>\n",
              "      <td>Gilmore Girls: Tal Mãe, Tal Filha: Temporada 6...</td>\n",
              "      <td>NaN</td>\n",
              "      <td>DefaultWidevineAndroidPhone</td>\n",
              "      <td>1900-01-01 00:34:39</td>\n",
              "      <td>Not latest view</td>\n",
              "      <td>BR (Brazil)</td>\n",
              "      <td>Gilmore Girls: Tal Mãe, Tal Filha</td>\n",
              "    </tr>\n",
              "    <tr>\n",
              "      <th>5275</th>\n",
              "      <td>Natália</td>\n",
              "      <td>2020-06-09 03:35:49</td>\n",
              "      <td>1900-01-01 00:00:04</td>\n",
              "      <td>NaN</td>\n",
              "      <td>Gilmore Girls: Tal Mãe, Tal Filha: Temporada 6...</td>\n",
              "      <td>NaN</td>\n",
              "      <td>DefaultWidevineAndroidPhone</td>\n",
              "      <td>1900-01-01 00:01:00</td>\n",
              "      <td>Not latest view</td>\n",
              "      <td>BR (Brazil)</td>\n",
              "      <td>Gilmore Girls: Tal Mãe, Tal Filha</td>\n",
              "    </tr>\n",
              "    <tr>\n",
              "      <th>5276</th>\n",
              "      <td>Natália</td>\n",
              "      <td>2020-06-09 03:05:49</td>\n",
              "      <td>1900-01-01 00:29:28</td>\n",
              "      <td>NaN</td>\n",
              "      <td>Gilmore Girls: Tal Mãe, Tal Filha: Temporada 6...</td>\n",
              "      <td>NaN</td>\n",
              "      <td>DefaultWidevineAndroidPhone</td>\n",
              "      <td>1900-01-01 00:43:54</td>\n",
              "      <td>Not latest view</td>\n",
              "      <td>BR (Brazil)</td>\n",
              "      <td>Gilmore Girls: Tal Mãe, Tal Filha</td>\n",
              "    </tr>\n",
              "    <tr>\n",
              "      <th>5277</th>\n",
              "      <td>Natália</td>\n",
              "      <td>2020-06-09 02:52:21</td>\n",
              "      <td>1900-01-01 00:13:01</td>\n",
              "      <td>NaN</td>\n",
              "      <td>Gilmore Girls: Tal Mãe, Tal Filha: Temporada 6...</td>\n",
              "      <td>NaN</td>\n",
              "      <td>DefaultWidevineAndroidPhone</td>\n",
              "      <td>1900-01-01 00:14:31</td>\n",
              "      <td>Not latest view</td>\n",
              "      <td>BR (Brazil)</td>\n",
              "      <td>Gilmore Girls: Tal Mãe, Tal Filha</td>\n",
              "    </tr>\n",
              "    <tr>\n",
              "      <th>5278</th>\n",
              "      <td>Natália</td>\n",
              "      <td>2020-06-09 01:29:52</td>\n",
              "      <td>1900-01-01 00:11:57</td>\n",
              "      <td>NaN</td>\n",
              "      <td>Lucifer: Temporada 3: Cesto de pecados (Episód...</td>\n",
              "      <td>NaN</td>\n",
              "      <td>DefaultWidevineAndroidPhone</td>\n",
              "      <td>1900-01-01 00:11:56</td>\n",
              "      <td>00:11:56</td>\n",
              "      <td>BR (Brazil)</td>\n",
              "      <td>Lucifer</td>\n",
              "    </tr>\n",
              "  </tbody>\n",
              "</table>\n",
              "<p>5279 rows × 11 columns</p>\n",
              "</div>"
            ],
            "text/plain": [
              "     Profile Name  ...                      titulo_limpo_\n",
              "0         Natália  ...                           Sex/Life\n",
              "1         Natália  ...                           Sex/Life\n",
              "2         Natália  ...  Gilmore Girls: Tal Mãe, Tal Filha\n",
              "3         Natália  ...  Gilmore Girls: Tal Mãe, Tal Filha\n",
              "4         Natália  ...  Gilmore Girls: Tal Mãe, Tal Filha\n",
              "...           ...  ...                                ...\n",
              "5274      Natália  ...  Gilmore Girls: Tal Mãe, Tal Filha\n",
              "5275      Natália  ...  Gilmore Girls: Tal Mãe, Tal Filha\n",
              "5276      Natália  ...  Gilmore Girls: Tal Mãe, Tal Filha\n",
              "5277      Natália  ...  Gilmore Girls: Tal Mãe, Tal Filha\n",
              "5278      Natália  ...                            Lucifer\n",
              "\n",
              "[5279 rows x 11 columns]"
            ]
          },
          "metadata": {
            "tags": []
          },
          "execution_count": 122
        }
      ]
    },
    {
      "cell_type": "code",
      "metadata": {
        "colab": {
          "base_uri": "https://localhost:8080/",
          "height": 340
        },
        "id": "MKAFhwgKq7za",
        "outputId": "4d7317ec-0f7d-43ad-aff0-2924c6c198d5"
      },
      "source": [
        "#Elimando colunas desncessárias:\n",
        "df_viewing_activity.drop(columns=['Country Iso Code', 'Device', 'Query Typed'], inplace=True)\n"
      ],
      "execution_count": 123,
      "outputs": [
        {
          "output_type": "error",
          "ename": "KeyError",
          "evalue": "ignored",
          "traceback": [
            "\u001b[0;31m---------------------------------------------------------------------------\u001b[0m",
            "\u001b[0;31mKeyError\u001b[0m                                  Traceback (most recent call last)",
            "\u001b[0;32m<ipython-input-123-677b849af62c>\u001b[0m in \u001b[0;36m<module>\u001b[0;34m()\u001b[0m\n\u001b[1;32m      1\u001b[0m \u001b[0;31m#Elimando colunas desncessárias:\u001b[0m\u001b[0;34m\u001b[0m\u001b[0;34m\u001b[0m\u001b[0;34m\u001b[0m\u001b[0m\n\u001b[0;32m----> 2\u001b[0;31m \u001b[0mdf_viewing_activity\u001b[0m\u001b[0;34m.\u001b[0m\u001b[0mdrop\u001b[0m\u001b[0;34m(\u001b[0m\u001b[0mcolumns\u001b[0m\u001b[0;34m=\u001b[0m\u001b[0;34m[\u001b[0m\u001b[0;34m'Country Iso Code'\u001b[0m\u001b[0;34m,\u001b[0m \u001b[0;34m'Device'\u001b[0m\u001b[0;34m,\u001b[0m \u001b[0;34m'Query Typed'\u001b[0m\u001b[0;34m]\u001b[0m\u001b[0;34m,\u001b[0m \u001b[0minplace\u001b[0m\u001b[0;34m=\u001b[0m\u001b[0;32mTrue\u001b[0m\u001b[0;34m)\u001b[0m\u001b[0;34m\u001b[0m\u001b[0;34m\u001b[0m\u001b[0m\n\u001b[0m",
            "\u001b[0;32m/usr/local/lib/python3.7/dist-packages/pandas/core/frame.py\u001b[0m in \u001b[0;36mdrop\u001b[0;34m(self, labels, axis, index, columns, level, inplace, errors)\u001b[0m\n\u001b[1;32m   4172\u001b[0m             \u001b[0mlevel\u001b[0m\u001b[0;34m=\u001b[0m\u001b[0mlevel\u001b[0m\u001b[0;34m,\u001b[0m\u001b[0;34m\u001b[0m\u001b[0;34m\u001b[0m\u001b[0m\n\u001b[1;32m   4173\u001b[0m             \u001b[0minplace\u001b[0m\u001b[0;34m=\u001b[0m\u001b[0minplace\u001b[0m\u001b[0;34m,\u001b[0m\u001b[0;34m\u001b[0m\u001b[0;34m\u001b[0m\u001b[0m\n\u001b[0;32m-> 4174\u001b[0;31m             \u001b[0merrors\u001b[0m\u001b[0;34m=\u001b[0m\u001b[0merrors\u001b[0m\u001b[0;34m,\u001b[0m\u001b[0;34m\u001b[0m\u001b[0;34m\u001b[0m\u001b[0m\n\u001b[0m\u001b[1;32m   4175\u001b[0m         )\n\u001b[1;32m   4176\u001b[0m \u001b[0;34m\u001b[0m\u001b[0m\n",
            "\u001b[0;32m/usr/local/lib/python3.7/dist-packages/pandas/core/generic.py\u001b[0m in \u001b[0;36mdrop\u001b[0;34m(self, labels, axis, index, columns, level, inplace, errors)\u001b[0m\n\u001b[1;32m   3887\u001b[0m         \u001b[0;32mfor\u001b[0m \u001b[0maxis\u001b[0m\u001b[0;34m,\u001b[0m \u001b[0mlabels\u001b[0m \u001b[0;32min\u001b[0m \u001b[0maxes\u001b[0m\u001b[0;34m.\u001b[0m\u001b[0mitems\u001b[0m\u001b[0;34m(\u001b[0m\u001b[0;34m)\u001b[0m\u001b[0;34m:\u001b[0m\u001b[0;34m\u001b[0m\u001b[0;34m\u001b[0m\u001b[0m\n\u001b[1;32m   3888\u001b[0m             \u001b[0;32mif\u001b[0m \u001b[0mlabels\u001b[0m \u001b[0;32mis\u001b[0m \u001b[0;32mnot\u001b[0m \u001b[0;32mNone\u001b[0m\u001b[0;34m:\u001b[0m\u001b[0;34m\u001b[0m\u001b[0;34m\u001b[0m\u001b[0m\n\u001b[0;32m-> 3889\u001b[0;31m                 \u001b[0mobj\u001b[0m \u001b[0;34m=\u001b[0m \u001b[0mobj\u001b[0m\u001b[0;34m.\u001b[0m\u001b[0m_drop_axis\u001b[0m\u001b[0;34m(\u001b[0m\u001b[0mlabels\u001b[0m\u001b[0;34m,\u001b[0m \u001b[0maxis\u001b[0m\u001b[0;34m,\u001b[0m \u001b[0mlevel\u001b[0m\u001b[0;34m=\u001b[0m\u001b[0mlevel\u001b[0m\u001b[0;34m,\u001b[0m \u001b[0merrors\u001b[0m\u001b[0;34m=\u001b[0m\u001b[0merrors\u001b[0m\u001b[0;34m)\u001b[0m\u001b[0;34m\u001b[0m\u001b[0;34m\u001b[0m\u001b[0m\n\u001b[0m\u001b[1;32m   3890\u001b[0m \u001b[0;34m\u001b[0m\u001b[0m\n\u001b[1;32m   3891\u001b[0m         \u001b[0;32mif\u001b[0m \u001b[0minplace\u001b[0m\u001b[0;34m:\u001b[0m\u001b[0;34m\u001b[0m\u001b[0;34m\u001b[0m\u001b[0m\n",
            "\u001b[0;32m/usr/local/lib/python3.7/dist-packages/pandas/core/generic.py\u001b[0m in \u001b[0;36m_drop_axis\u001b[0;34m(self, labels, axis, level, errors)\u001b[0m\n\u001b[1;32m   3921\u001b[0m                 \u001b[0mnew_axis\u001b[0m \u001b[0;34m=\u001b[0m \u001b[0maxis\u001b[0m\u001b[0;34m.\u001b[0m\u001b[0mdrop\u001b[0m\u001b[0;34m(\u001b[0m\u001b[0mlabels\u001b[0m\u001b[0;34m,\u001b[0m \u001b[0mlevel\u001b[0m\u001b[0;34m=\u001b[0m\u001b[0mlevel\u001b[0m\u001b[0;34m,\u001b[0m \u001b[0merrors\u001b[0m\u001b[0;34m=\u001b[0m\u001b[0merrors\u001b[0m\u001b[0;34m)\u001b[0m\u001b[0;34m\u001b[0m\u001b[0;34m\u001b[0m\u001b[0m\n\u001b[1;32m   3922\u001b[0m             \u001b[0;32melse\u001b[0m\u001b[0;34m:\u001b[0m\u001b[0;34m\u001b[0m\u001b[0;34m\u001b[0m\u001b[0m\n\u001b[0;32m-> 3923\u001b[0;31m                 \u001b[0mnew_axis\u001b[0m \u001b[0;34m=\u001b[0m \u001b[0maxis\u001b[0m\u001b[0;34m.\u001b[0m\u001b[0mdrop\u001b[0m\u001b[0;34m(\u001b[0m\u001b[0mlabels\u001b[0m\u001b[0;34m,\u001b[0m \u001b[0merrors\u001b[0m\u001b[0;34m=\u001b[0m\u001b[0merrors\u001b[0m\u001b[0;34m)\u001b[0m\u001b[0;34m\u001b[0m\u001b[0;34m\u001b[0m\u001b[0m\n\u001b[0m\u001b[1;32m   3924\u001b[0m             \u001b[0mresult\u001b[0m \u001b[0;34m=\u001b[0m \u001b[0mself\u001b[0m\u001b[0;34m.\u001b[0m\u001b[0mreindex\u001b[0m\u001b[0;34m(\u001b[0m\u001b[0;34m**\u001b[0m\u001b[0;34m{\u001b[0m\u001b[0maxis_name\u001b[0m\u001b[0;34m:\u001b[0m \u001b[0mnew_axis\u001b[0m\u001b[0;34m}\u001b[0m\u001b[0;34m)\u001b[0m\u001b[0;34m\u001b[0m\u001b[0;34m\u001b[0m\u001b[0m\n\u001b[1;32m   3925\u001b[0m \u001b[0;34m\u001b[0m\u001b[0m\n",
            "\u001b[0;32m/usr/local/lib/python3.7/dist-packages/pandas/core/indexes/base.py\u001b[0m in \u001b[0;36mdrop\u001b[0;34m(self, labels, errors)\u001b[0m\n\u001b[1;32m   5285\u001b[0m         \u001b[0;32mif\u001b[0m \u001b[0mmask\u001b[0m\u001b[0;34m.\u001b[0m\u001b[0many\u001b[0m\u001b[0;34m(\u001b[0m\u001b[0;34m)\u001b[0m\u001b[0;34m:\u001b[0m\u001b[0;34m\u001b[0m\u001b[0;34m\u001b[0m\u001b[0m\n\u001b[1;32m   5286\u001b[0m             \u001b[0;32mif\u001b[0m \u001b[0merrors\u001b[0m \u001b[0;34m!=\u001b[0m \u001b[0;34m\"ignore\"\u001b[0m\u001b[0;34m:\u001b[0m\u001b[0;34m\u001b[0m\u001b[0;34m\u001b[0m\u001b[0m\n\u001b[0;32m-> 5287\u001b[0;31m                 \u001b[0;32mraise\u001b[0m \u001b[0mKeyError\u001b[0m\u001b[0;34m(\u001b[0m\u001b[0;34mf\"{labels[mask]} not found in axis\"\u001b[0m\u001b[0;34m)\u001b[0m\u001b[0;34m\u001b[0m\u001b[0;34m\u001b[0m\u001b[0m\n\u001b[0m\u001b[1;32m   5288\u001b[0m             \u001b[0mindexer\u001b[0m \u001b[0;34m=\u001b[0m \u001b[0mindexer\u001b[0m\u001b[0;34m[\u001b[0m\u001b[0;34m~\u001b[0m\u001b[0mmask\u001b[0m\u001b[0;34m]\u001b[0m\u001b[0;34m\u001b[0m\u001b[0;34m\u001b[0m\u001b[0m\n\u001b[1;32m   5289\u001b[0m         \u001b[0;32mreturn\u001b[0m \u001b[0mself\u001b[0m\u001b[0;34m.\u001b[0m\u001b[0mdelete\u001b[0m\u001b[0;34m(\u001b[0m\u001b[0mindexer\u001b[0m\u001b[0;34m)\u001b[0m\u001b[0;34m\u001b[0m\u001b[0;34m\u001b[0m\u001b[0m\n",
            "\u001b[0;31mKeyError\u001b[0m: \"['Country Iso Code' 'Device' 'Query Typed'] not found in axis\""
          ]
        }
      ]
    },
    {
      "cell_type": "code",
      "metadata": {
        "id": "OIuqiDhcrPW3"
      },
      "source": [
        "# Criando colunas para hora, minutos e segundos extraídas do tipo datetime:\n",
        "df_viewing_activity['minutos'] = df_viewing_activity['Duration'].dt.minute\n",
        "df_viewing_activity['segundos'] = df_viewing_activity['Duration'].dt.second\n",
        "df_viewing_activity['horas'] = df_viewing_activity['Duration'].dt.hour"
      ],
      "execution_count": null,
      "outputs": []
    },
    {
      "cell_type": "code",
      "metadata": {
        "id": "lMBJIgLS3KNC"
      },
      "source": [
        "df_viewing_activity"
      ],
      "execution_count": null,
      "outputs": []
    },
    {
      "cell_type": "code",
      "metadata": {
        "id": "hbGMAkmGrXsf"
      },
      "source": [
        "# Exportando arquivo tratado:\n",
        "df_viewing_activity.to_csv( 'ViewingActiwity_netflix.csv' , index = False , header = False )\n"
      ],
      "execution_count": null,
      "outputs": []
    }
  ]
}