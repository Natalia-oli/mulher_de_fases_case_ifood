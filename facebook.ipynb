{
  "nbformat": 4,
  "nbformat_minor": 0,
  "metadata": {
    "colab": {
      "name": "facebook.ipynb",
      "provenance": [],
      "collapsed_sections": []
    },
    "kernelspec": {
      "name": "python3",
      "display_name": "Python 3"
    },
    "language_info": {
      "name": "python"
    }
  },
  "cells": [
    {
      "cell_type": "markdown",
      "metadata": {
        "id": "LWiFODpbp92g"
      },
      "source": [
        "### Sumário\n",
        "\n",
        "1.   **Facebook**\n",
        "\n",
        "        1.1 Interaction in groups\n",
        "\n",
        "        1.2 Pokes\n",
        "\n",
        "        1.3 Pages follow \n",
        "\n",
        "        1.4 Groups + pages\n",
        "\n",
        "        1.5 Posts\n",
        "        \n",
        "        1.6 Comments\n",
        "\n",
        "\n",
        "\n"
      ]
    },
    {
      "cell_type": "markdown",
      "metadata": {
        "id": "krQDUMl-2C16"
      },
      "source": [
        "### Imports and instalations"
      ]
    },
    {
      "cell_type": "code",
      "metadata": {
        "id": "6TH3C9omxp58"
      },
      "source": [
        "!pip install wordcloud -q "
      ],
      "execution_count": 1,
      "outputs": []
    },
    {
      "cell_type": "code",
      "metadata": {
        "id": "6c5sU7odNWKJ"
      },
      "source": [
        "import pandas as pd\n",
        "import json\n",
        "from wordcloud import WordCloud, STOPWORDS, ImageColorGenerator \n",
        "from PIL import Image\n",
        "import matplotlib.pyplot as plt\n",
        "from unicodedata import normalize\n",
        "import numpy as np"
      ],
      "execution_count": 2,
      "outputs": []
    },
    {
      "cell_type": "code",
      "metadata": {
        "colab": {
          "base_uri": "https://localhost:8080/"
        },
        "id": "PDQG6Suuz93S",
        "outputId": "18dc8319-13b0-4114-fff6-6b1f411ed54d"
      },
      "source": [
        "from google.colab import drive\n",
        "drive.mount('/content/drive')"
      ],
      "execution_count": 8,
      "outputs": [
        {
          "output_type": "stream",
          "text": [
            "Mounted at /content/drive\n"
          ],
          "name": "stdout"
        }
      ]
    },
    {
      "cell_type": "markdown",
      "metadata": {
        "id": "KJGBnnslprod"
      },
      "source": [
        "# 1. Facebook"
      ]
    },
    {
      "cell_type": "markdown",
      "metadata": {
        "id": "E1_mre5j40N1"
      },
      "source": [
        "Período analisado: 1 de Jan de 2013 - 1 de Jan de 2018.\n"
      ]
    },
    {
      "cell_type": "markdown",
      "metadata": {
        "id": "XOZ-NM-U3h3H"
      },
      "source": [
        "## 1.1 Interaction in groups "
      ]
    },
    {
      "cell_type": "code",
      "metadata": {
        "id": "1g_Ps1yQ_amS"
      },
      "source": [
        "path_group_interacion = '/content/drive/MyDrive/Case Ifood/FACEBOOK - 1/activity_messages/group_interactions.json'"
      ],
      "execution_count": 9,
      "outputs": []
    },
    {
      "cell_type": "code",
      "metadata": {
        "id": "mmVTE1h4F-fz"
      },
      "source": [
        "group_interaction = pd.read_json(path_group_interacion)"
      ],
      "execution_count": 10,
      "outputs": []
    },
    {
      "cell_type": "code",
      "metadata": {
        "colab": {
          "base_uri": "https://localhost:8080/",
          "height": 81
        },
        "id": "HNzd_JDiGXRf",
        "outputId": "42421add-ed9b-49e9-d6fa-27f66a517724"
      },
      "source": [
        "group_interaction"
      ],
      "execution_count": 11,
      "outputs": [
        {
          "output_type": "execute_result",
          "data": {
            "text/html": [
              "<div>\n",
              "<style scoped>\n",
              "    .dataframe tbody tr th:only-of-type {\n",
              "        vertical-align: middle;\n",
              "    }\n",
              "\n",
              "    .dataframe tbody tr th {\n",
              "        vertical-align: top;\n",
              "    }\n",
              "\n",
              "    .dataframe thead th {\n",
              "        text-align: right;\n",
              "    }\n",
              "</style>\n",
              "<table border=\"1\" class=\"dataframe\">\n",
              "  <thead>\n",
              "    <tr style=\"text-align: right;\">\n",
              "      <th></th>\n",
              "      <th>group_interactions_v2</th>\n",
              "    </tr>\n",
              "  </thead>\n",
              "  <tbody>\n",
              "    <tr>\n",
              "      <th>0</th>\n",
              "      <td>{'name': '', 'description': '', 'entries': [{'...</td>\n",
              "    </tr>\n",
              "  </tbody>\n",
              "</table>\n",
              "</div>"
            ],
            "text/plain": [
              "                               group_interactions_v2\n",
              "0  {'name': '', 'description': '', 'entries': [{'..."
            ]
          },
          "metadata": {
            "tags": []
          },
          "execution_count": 11
        }
      ]
    },
    {
      "cell_type": "code",
      "metadata": {
        "id": "fsrasINaGobw"
      },
      "source": [
        "# nivelando\n",
        "entries = pd.json_normalize(group_interaction['group_interactions_v2'])['entries']"
      ],
      "execution_count": null,
      "outputs": []
    },
    {
      "cell_type": "code",
      "metadata": {
        "id": "zVj3VT3NHfvD"
      },
      "source": [
        "\n",
        "entries.keys()"
      ],
      "execution_count": null,
      "outputs": []
    },
    {
      "cell_type": "code",
      "metadata": {
        "id": "sBlPfGYwHjYJ"
      },
      "source": [
        "# arquivo nivelado depois do tratamento realiza acima\n",
        "df_group_interacion = pd.json_normalize(entries[0])\n",
        "df_group_interacion"
      ],
      "execution_count": null,
      "outputs": []
    },
    {
      "cell_type": "code",
      "metadata": {
        "id": "0CCMoRudmy_B"
      },
      "source": [
        "# tornando os nomes das legendas mais intuitivos em relação ao que representam:\n",
        "df_group_interacion.rename(columns={'data.name': 'name_group',\n",
        "                                   'data.value': 'value_interaction',\n",
        "                                   'data.uri': 'uri_group'}, inplace = True)\n"
      ],
      "execution_count": null,
      "outputs": []
    },
    {
      "cell_type": "code",
      "metadata": {
        "id": "MCEG4yEynoOi"
      },
      "source": [
        "df_group_interacion"
      ],
      "execution_count": null,
      "outputs": []
    },
    {
      "cell_type": "code",
      "metadata": {
        "id": "6_TRmRqPnu4g"
      },
      "source": [
        "# analisando cada campo: necessário conformar 'value_interaction'\n",
        "df_group_interacion.info()"
      ],
      "execution_count": null,
      "outputs": []
    },
    {
      "cell_type": "code",
      "metadata": {
        "id": "wqteMnXsn_mu"
      },
      "source": [
        "# para conformar a coluna 'value_interaction', é necessário separar a quantidade de vezes da palavra vezes/vez.\n",
        "# selecionando a coluna\n",
        "value_interactions = df_group_interacion['value_interaction']"
      ],
      "execution_count": null,
      "outputs": []
    },
    {
      "cell_type": "code",
      "metadata": {
        "id": "A6wsRNQGoLdc"
      },
      "source": [
        "# isolando somente a quantidade de vezes e adicionando em\n",
        "# uma lista para posteriormente adicionar como nova serie ao DataFrame\n",
        "\n",
        "value_split = value_interactions.str.split(' ')\n",
        "interactions = []\n",
        "for v in value_split:\n",
        "  v = v[0]\n",
        "  interactions.append(v)\n",
        "  \n",
        "print(interactions)"
      ],
      "execution_count": null,
      "outputs": []
    },
    {
      "cell_type": "code",
      "metadata": {
        "id": "8hjBc7LAuNY2"
      },
      "source": [
        "# criando nova coluna somente com os valores filtrados da coluna 'value_interaction'\n",
        "df_group_interacion['value_interactions'] = pd.DataFrame(interactions)\n"
      ],
      "execution_count": null,
      "outputs": []
    },
    {
      "cell_type": "code",
      "metadata": {
        "id": "1xqx9Z7TqAAd"
      },
      "source": [
        "df_group_interacion['value_interactions'] = pd.to_numeric(df_group_interacion['value_interactions'])"
      ],
      "execution_count": null,
      "outputs": []
    },
    {
      "cell_type": "code",
      "metadata": {
        "id": "dASSrtsVur1H"
      },
      "source": [
        "# eliminando antiga coluna em que a quantidade de vezes estava como object e como a palavra\n",
        "df_group_interacion.drop(columns=['value_interaction'], inplace=True)\n"
      ],
      "execution_count": null,
      "outputs": []
    },
    {
      "cell_type": "code",
      "metadata": {
        "id": "Nb-ckwhovXgA"
      },
      "source": [
        "df_group_interacion"
      ],
      "execution_count": null,
      "outputs": []
    },
    {
      "cell_type": "code",
      "metadata": {
        "id": "7kPS-oDOpkQQ"
      },
      "source": [
        "df_group_interacion.info()"
      ],
      "execution_count": null,
      "outputs": []
    },
    {
      "cell_type": "markdown",
      "metadata": {
        "id": "-Q1f0-VMyktX"
      },
      "source": [
        "## 1.2 Pokes\n",
        "\n",
        "ações de cutucadas. "
      ]
    },
    {
      "cell_type": "code",
      "metadata": {
        "id": "jUCMwSHxXb9v"
      },
      "source": [
        "path_pokes = '/content/drive/MyDrive/Case Ifood/FACEBOOK - 1/other_activity/pokes.json'"
      ],
      "execution_count": null,
      "outputs": []
    },
    {
      "cell_type": "code",
      "metadata": {
        "id": "9NhbMaR2Zcic"
      },
      "source": [
        "# Leitura do json com dados:\n",
        "with open(path_pokes) as access_json:\n",
        "  read_pokes = json.load(access_json, encoding='latin-1')"
      ],
      "execution_count": null,
      "outputs": []
    },
    {
      "cell_type": "code",
      "metadata": {
        "id": "dnv9wMaOZk1e"
      },
      "source": [
        "# acessando(entrando) no dicinário:\n",
        "access_pokes = read_pokes['pokes_v2']\n"
      ],
      "execution_count": null,
      "outputs": []
    },
    {
      "cell_type": "code",
      "metadata": {
        "id": "R1jA5oIcaWPu"
      },
      "source": [
        "# acessando a lista de dicinários contida dentro do 'pokes_v2':\n",
        "access_activity = access_pokes['activity_log_data']"
      ],
      "execution_count": null,
      "outputs": []
    },
    {
      "cell_type": "code",
      "metadata": {
        "id": "zG_WNYhugSDD"
      },
      "source": [
        "# função para acessar a lista de dicionários de forma otimizada:\n",
        "def get_pokes(): \n",
        "\n",
        "  access_pokes = read_pokes['pokes_v2']\n",
        "\n",
        "  for pokes_data in access_pokes:\n",
        "    access_activity = pokes_data['activity_log_data']\n",
        " \n",
        "      "
      ],
      "execution_count": null,
      "outputs": []
    },
    {
      "cell_type": "code",
      "metadata": {
        "id": "NGIhmRQXq8DY"
      },
      "source": [
        "# transformando o json em um dataframe\n",
        "df_pokes = pd.json_normalize(access_activity, record_path= ['data'], meta = ['timestamp', 'title'])\n",
        "df_pokes['name'].value_counts()"
      ],
      "execution_count": null,
      "outputs": []
    },
    {
      "cell_type": "code",
      "metadata": {
        "id": "AKXLo4pAv61g"
      },
      "source": [
        "# Alterando os campos da serie 'title' para 'Cutucou'\n",
        "df_pokes.loc[:, 'title'] = 'Cutuquei'"
      ],
      "execution_count": null,
      "outputs": []
    },
    {
      "cell_type": "code",
      "metadata": {
        "id": "luVHhO_Qvzgp"
      },
      "source": [
        "# renomeando colunas\n",
        "df_pokes.rename(columns={'name': 'name_user',\n",
        "                                   'title': 'action',}, inplace = True)"
      ],
      "execution_count": null,
      "outputs": []
    },
    {
      "cell_type": "code",
      "metadata": {
        "id": "imRuPFlZwHOv"
      },
      "source": [
        "df_pokes.info()"
      ],
      "execution_count": null,
      "outputs": []
    },
    {
      "cell_type": "markdown",
      "metadata": {
        "id": "mniFSkaiaWAy"
      },
      "source": [
        "## 1.3 Pages follow\n",
        "Páginas que sigo na rede social."
      ]
    },
    {
      "cell_type": "code",
      "metadata": {
        "id": "RpfwNb_1kIng"
      },
      "source": [
        "path_pages_follow = '/content/drive/MyDrive/Case Ifood/FACEBOOK - 1/pages/pages_you_follow.json'"
      ],
      "execution_count": null,
      "outputs": []
    },
    {
      "cell_type": "code",
      "metadata": {
        "id": "T6tAbNu8kCOs"
      },
      "source": [
        "with open(path_pages_follow) as access_json:\n",
        "  read_pages_follow = json.load(access_json, encoding ='latin-1')"
      ],
      "execution_count": null,
      "outputs": []
    },
    {
      "cell_type": "code",
      "metadata": {
        "id": "7s1Xkq7rkYvL"
      },
      "source": [
        "read_pages = read_pages_follow['pages_followed_v2']"
      ],
      "execution_count": null,
      "outputs": []
    },
    {
      "cell_type": "code",
      "metadata": {
        "id": "qbZOYUNVlcWK"
      },
      "source": [
        "df = pd.json_normalize(read_pages)\n",
        "df.explode('data')"
      ],
      "execution_count": null,
      "outputs": []
    },
    {
      "cell_type": "code",
      "metadata": {
        "id": "CBLUPJBrl0fC"
      },
      "source": [
        "df_pages_follow = pd.json_normalize(read_pages, record_path= ['data'], meta = ['timestamp', 'title'])\n",
        "df_pages_follow"
      ],
      "execution_count": null,
      "outputs": []
    },
    {
      "cell_type": "code",
      "metadata": {
        "id": "I8uxE8vVy1-3"
      },
      "source": [
        "df_pages_follow.info()"
      ],
      "execution_count": null,
      "outputs": []
    },
    {
      "cell_type": "markdown",
      "metadata": {
        "id": "RLPT1-Lo_E1e"
      },
      "source": [
        "## 1.4 Groups + pages\n",
        "Nuvem de palavras através da união de grupos e páginas que participo/segui para demonstrar os interesses que mais se destacam. "
      ]
    },
    {
      "cell_type": "code",
      "metadata": {
        "id": "hEBwJ60p_Twq"
      },
      "source": [
        "# recuperando dataframe sobre grupos e retirando colunas que não interessam e renomeando a que restou como 'interests'\n",
        "groups = df_group_interacion.drop(columns=['uri_group', 'value_interactions'])\n",
        "groups = groups.rename(columns={'name_group': 'interests'})"
      ],
      "execution_count": null,
      "outputs": []
    },
    {
      "cell_type": "code",
      "metadata": {
        "id": "bAsSjANg_yaQ"
      },
      "source": [
        "# realizando a mesma rotina anterior: é necessário deixar as colunas com o mesmo nome para ser viável concater\n",
        "pages = df_pages_follow.drop(columns=['timestamp', 'title'])\n",
        "pages = pages.rename(columns={'name': 'interests'})\n",
        "pages"
      ],
      "execution_count": null,
      "outputs": []
    },
    {
      "cell_type": "code",
      "metadata": {
        "id": "-rZ_bGnzBxBf"
      },
      "source": [
        "# unindo ambas as series \n",
        "groups_and_pages = pd.concat([groups, pages])"
      ],
      "execution_count": null,
      "outputs": []
    },
    {
      "cell_type": "code",
      "metadata": {
        "id": "HHpHCI8VB6TO"
      },
      "source": [
        "groups_and_pages"
      ],
      "execution_count": null,
      "outputs": []
    },
    {
      "cell_type": "code",
      "metadata": {
        "id": "Kwj8-3BfUITc"
      },
      "source": [
        "groups_and_pages.to_csv('group_and_pages.csv', encoding='latin-1', index= False, header = True)\n"
      ],
      "execution_count": null,
      "outputs": []
    },
    {
      "cell_type": "code",
      "metadata": {
        "id": "LuReNsxBUwFX"
      },
      "source": [
        "df_group_and_pages = pd.read_csv('/content/df_group_and_pages.csv')"
      ],
      "execution_count": null,
      "outputs": []
    },
    {
      "cell_type": "code",
      "metadata": {
        "id": "9Zzjd64lwJIe"
      },
      "source": [
        "# armazenando todas as palavras da serie 'interests' em minusculo\n",
        "palavras = ' '.join(df_group_and_pages['interests'].str.lower())\n",
        "# conferindo a quantidade de palavras\n",
        "len(palavras)"
      ],
      "execution_count": null,
      "outputs": []
    },
    {
      "cell_type": "code",
      "metadata": {
        "id": "u-rVQmjc7q1c"
      },
      "source": [
        "# definindo palavras que devem ser ignoradas\n",
        "stopwords = set(STOPWORDS)\n",
        "stopwords.update(['e', 'de', 'da', 'dos','o', 'a' 'os', 'você', 'são', 'sem', 'ao', 'é', 'salgueiro', 'brasil', 'ana', 'oliveira', 'que', 'oficial', 'depressão', 'pe', 'mais'])"
      ],
      "execution_count": null,
      "outputs": []
    },
    {
      "cell_type": "code",
      "metadata": {
        "id": "fbHo11kl8ua7"
      },
      "source": [
        "# criando a nuvem de palavras\n",
        "wordcloud = WordCloud(stopwords=stopwords,\n",
        "                      background_color = 'black',\n",
        "                      width=1600, height= 800).generate(palavras)"
      ],
      "execution_count": null,
      "outputs": []
    },
    {
      "cell_type": "code",
      "metadata": {
        "id": "wG79KwcT9gH_"
      },
      "source": [
        "# plotando nuvem de palavras\n",
        "fix, ax = plt.subplots()\n",
        "ax.imshow(wordcloud, interpolation = 'bilinear')\n",
        "ax.set_axis_off()\n",
        "\n",
        "plt.imshow(wordcloud);\n",
        "wordcloud.to_file('interests_facebook.png')"
      ],
      "execution_count": null,
      "outputs": []
    },
    {
      "cell_type": "code",
      "metadata": {
        "id": "z1iUM9S4vnDk"
      },
      "source": [
        "mask_facebook = np.array(Image.open('/content/drive/MyDrive/Case Ifood/FACEBOOK - 1/Facebook-Logo-1.jpg'))\n",
        "\n",
        "# criando a nuvem de palavras\n",
        "wordcloud = WordCloud(stopwords=stopwords,\n",
        "                      background_color = 'White', colormap = 'Blues',\n",
        "                      width= 3000, height= 2500, max_words= 2000,\n",
        "                      max_font_size = 500, min_font_size = 30, \n",
        "                      mask = mask_facebook).generate(palavras)"
      ],
      "execution_count": null,
      "outputs": []
    },
    {
      "cell_type": "code",
      "metadata": {
        "id": "BbgGN6kDxMBg"
      },
      "source": [
        "# Plotando nuvem de palavras novamente, com a mascara\n",
        "fix, ax = plt.subplots()\n",
        "ax.imshow(wordcloud, interpolation = 'bilinear')\n",
        "ax.set_axis_off()\n",
        "\n",
        "plt.imshow(wordcloud);\n",
        "wordcloud.to_file('nuvem_facebook.png')"
      ],
      "execution_count": null,
      "outputs": []
    },
    {
      "cell_type": "markdown",
      "metadata": {
        "id": "CEVRXIQ0M_9X"
      },
      "source": [
        "## 1.5 Posts\n",
        "\n",
        "Publicações na rede social."
      ]
    },
    {
      "cell_type": "code",
      "metadata": {
        "id": "zlIHEC7ZMx19"
      },
      "source": [
        "path_posts = '/content/drive/MyDrive/Case Ifood/FACEBOOK - 1/posts/your_posts_1.json'"
      ],
      "execution_count": null,
      "outputs": []
    },
    {
      "cell_type": "code",
      "metadata": {
        "id": "2Kl_y-9JOemN"
      },
      "source": [
        "# Leitura do json\n",
        "with open(path_posts) as access_json:\n",
        "  read_posts = json.load(access_json)"
      ],
      "execution_count": null,
      "outputs": []
    },
    {
      "cell_type": "code",
      "metadata": {
        "id": "t0y5tJPOO0Y6"
      },
      "source": [
        "\n",
        "df_posts = pd.json_normalize(read_posts)\n",
        "df_posts = df_posts.explode('data')\n",
        "df_posts = df_posts.explode('tags')"
      ],
      "execution_count": null,
      "outputs": []
    },
    {
      "cell_type": "code",
      "metadata": {
        "id": "E14e_DejPMff"
      },
      "source": [
        "df_posts"
      ],
      "execution_count": null,
      "outputs": []
    },
    {
      "cell_type": "code",
      "metadata": {
        "id": "EC_sLIHf_lN4"
      },
      "source": [
        "# Todas as linhas apresentam timestamp, devido isso considero que os 'NaN' que aparecem nas colunas 'title' e 'post'\n",
        "# pode indicar que a publicação foi excluída. Nesse cenário, considerarei todas como registro de posts. \n",
        "\n",
        "df_posts.info()"
      ],
      "execution_count": null,
      "outputs": []
    },
    {
      "cell_type": "code",
      "metadata": {
        "id": "5uJnXtQOP5cP"
      },
      "source": [
        "df_posts = pd.json_normalize(read_posts, record_path= ['data'], meta = ['timestamp', 'tags', 'title', 'attachments'], errors='ignore')\n",
        "df_posts"
      ],
      "execution_count": null,
      "outputs": []
    },
    {
      "cell_type": "code",
      "metadata": {
        "id": "oWGcp23Qjc2K"
      },
      "source": [
        "# Eliminando colunas que não fazem sentido para o objetivo\n",
        "df_posts.drop(columns={'update_timestamp', 'tags', 'attachments'}, inplace=True)"
      ],
      "execution_count": null,
      "outputs": []
    },
    {
      "cell_type": "code",
      "metadata": {
        "id": "8V7_P-V6j3AI"
      },
      "source": [
        "df_posts.info()"
      ],
      "execution_count": null,
      "outputs": []
    },
    {
      "cell_type": "code",
      "metadata": {
        "id": "JhT2bHEIkPpR"
      },
      "source": [
        "# conformando campo\n",
        "df_posts['timestamp'] = pd.to_datetime(df_posts['timestamp'], unit='s')\n"
      ],
      "execution_count": null,
      "outputs": []
    },
    {
      "cell_type": "code",
      "metadata": {
        "id": "rX09Egm3krVu"
      },
      "source": [
        "# extraindo ano do campo timestamp\n",
        "df_posts['year'] = pd.DatetimeIndex(df_posts['timestamp']).year\n"
      ],
      "execution_count": null,
      "outputs": []
    },
    {
      "cell_type": "code",
      "metadata": {
        "id": "lwcvnJHakyDe"
      },
      "source": [
        "df_posts"
      ],
      "execution_count": null,
      "outputs": []
    },
    {
      "cell_type": "code",
      "metadata": {
        "id": "eSRCsPYK9vjx"
      },
      "source": [
        "# depois de extrair o que era necessário, eliminando coluna\n",
        "df_posts.drop(columns={'timestamp'}, inplace=True)"
      ],
      "execution_count": null,
      "outputs": []
    },
    {
      "cell_type": "code",
      "metadata": {
        "id": "Uo3Yynxx92Y8"
      },
      "source": [
        "df_posts"
      ],
      "execution_count": null,
      "outputs": []
    },
    {
      "cell_type": "code",
      "metadata": {
        "id": "0xDSdEt8Jy6_"
      },
      "source": [
        "# preenchendo campos nulos(compreende-se que houve a postagem, mas, por exemplo, o post pode ter sido excluido pela fonte.)\n",
        "df_posts = df_posts.fillna('Postagem indisponível')\n"
      ],
      "execution_count": null,
      "outputs": []
    },
    {
      "cell_type": "code",
      "metadata": {
        "id": "nx98UxzGJ5oO"
      },
      "source": [
        "df_posts"
      ],
      "execution_count": null,
      "outputs": []
    },
    {
      "cell_type": "code",
      "metadata": {
        "id": "dlnjEOWiD4bu"
      },
      "source": [
        "# exportando DataFrame\n",
        "df_posts.to_csv( 'posts_facebook_nat_ok.csv' , index = False , header = True, encoding='latin-1')\n"
      ],
      "execution_count": null,
      "outputs": []
    },
    {
      "cell_type": "markdown",
      "metadata": {
        "id": "gF26NuSOKTr5"
      },
      "source": [
        "## 1.6 Comments"
      ]
    },
    {
      "cell_type": "markdown",
      "metadata": {
        "id": "ThFsQl3ILXrI"
      },
      "source": [
        ""
      ]
    },
    {
      "cell_type": "code",
      "metadata": {
        "id": "2piiF0RJLC76"
      },
      "source": [
        "path_comments = '/content/drive/MyDrive/Case Ifood/FACEBOOK - 1/comments.json'"
      ],
      "execution_count": null,
      "outputs": []
    },
    {
      "cell_type": "code",
      "metadata": {
        "id": "qtxSJ3dCLS3O"
      },
      "source": [
        "# leitura do json\n",
        "with open(path_comments) as access_json:\n",
        "  read_comments = json.load(access_json, encoding ='UFT-8')"
      ],
      "execution_count": null,
      "outputs": []
    },
    {
      "cell_type": "code",
      "metadata": {
        "id": "cZ_mYcOkLrh_"
      },
      "source": [
        "read_comments = read_comments['comments_v2']\n"
      ],
      "execution_count": null,
      "outputs": []
    },
    {
      "cell_type": "code",
      "metadata": {
        "id": "2imq2S3vLlA1"
      },
      "source": [
        "df_comments = pd.json_normalize(read_comments)"
      ],
      "execution_count": null,
      "outputs": []
    },
    {
      "cell_type": "code",
      "metadata": {
        "id": "DLnHmW4aNmmU"
      },
      "source": [
        "df_comments = pd.json_normalize(read_comments, meta_prefix=['data'])\n"
      ],
      "execution_count": null,
      "outputs": []
    },
    {
      "cell_type": "code",
      "metadata": {
        "id": "93BC56RBTl_G"
      },
      "source": [
        "df_comments.drop(columns={'data', 'attachments'}, inplace=True)\n"
      ],
      "execution_count": null,
      "outputs": []
    },
    {
      "cell_type": "code",
      "metadata": {
        "id": "Kxrw8y80Furi"
      },
      "source": [
        "df_comments"
      ],
      "execution_count": null,
      "outputs": []
    },
    {
      "cell_type": "code",
      "metadata": {
        "id": "QS1RDYJKG7An"
      },
      "source": [
        "df_comments.info()"
      ],
      "execution_count": null,
      "outputs": []
    },
    {
      "cell_type": "code",
      "metadata": {
        "id": "vEIGH4k3HA20"
      },
      "source": [
        "# conformando campo\n",
        "df_comments['timestamp'] = pd.to_datetime(df_comments['timestamp'], unit='s')\n"
      ],
      "execution_count": null,
      "outputs": []
    },
    {
      "cell_type": "code",
      "metadata": {
        "id": "mWuFgEs9Hatf"
      },
      "source": [
        "# extraindo ano \n",
        "df_comments['year'] = pd.DatetimeIndex(df_comments['timestamp']).year\n",
        "df_comments"
      ],
      "execution_count": null,
      "outputs": []
    },
    {
      "cell_type": "code",
      "metadata": {
        "id": "veXw1T8lH0PO"
      },
      "source": [
        "# eliminando coluna que agora já é dispensavel\n",
        "df_comments.drop('timestamp', axis=1, inplace=True)\n"
      ],
      "execution_count": null,
      "outputs": []
    },
    {
      "cell_type": "code",
      "metadata": {
        "id": "mayM-8X9KmXd"
      },
      "source": [
        "df_comments.rename(columns={'title': 'comment_post'})"
      ],
      "execution_count": null,
      "outputs": []
    },
    {
      "cell_type": "code",
      "metadata": {
        "id": "71uiD46-JY1U"
      },
      "source": [
        "# exportando\n",
        "df_comments.to_csv('comments_facebook.csv', encoding='utf-8', index = False, header = True)\n"
      ],
      "execution_count": null,
      "outputs": []
    }
  ]
}